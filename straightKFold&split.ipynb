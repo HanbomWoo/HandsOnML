{
 "cells": [
  {
   "cell_type": "markdown",
   "metadata": {},
   "source": [
    "# sklearn.model_selection.**StratifiedKFold**"
   ]
  },
  {
   "cell_type": "markdown",
   "metadata": {},
   "source": [
    "* provides train/test indicess to split data in train/test sets\n",
    "* the foldes are made by preserving the percentage of samples for each class"
   ]
  },
  {
   "cell_type": "markdown",
   "metadata": {},
   "source": [
    "## parameters\n",
    "\n",
    "* n_splits : number of folds\n",
    "\n",
    "* shuffle : wherher to shuffle each class's samples before splitting into batches\n",
    "    - note that the samples within each split wii not be shuffled\n",
    "    \n",
    "* random_state : when shuffle is True   \n",
    "    it affects the ordering of the indices, which controls the randomness of each fold for each class"
   ]
  },
  {
   "cell_type": "markdown",
   "metadata": {},
   "source": [
    "## method\n",
    "\n",
    "* get_n_splits(): return the number of splitting iterations in cross-validation\n",
    "\n",
    "* split() : generate indices to split data into training and test set"
   ]
  },
  {
   "cell_type": "code",
   "execution_count": 3,
   "metadata": {},
   "outputs": [
    {
     "data": {
      "text/plain": [
       "2"
      ]
     },
     "execution_count": 3,
     "metadata": {},
     "output_type": "execute_result"
    }
   ],
   "source": [
    "import numpy as np\n",
    "from sklearn.model_selection import StratifiedKFold\n",
    "\n",
    "# 동일한 class 분포를 포함한 test set을 생성한다\n",
    "X= np.array([[1,2],[3,4],[1,2],[3,4]])\n",
    "y= np.array([0,0,1,1]) #class label은 변하면 안됨, label을 다시 지정했을 때, 생성된 index가 변경되면 안됨\n",
    "\n",
    "skf=StratifiedKFold(n_splits=2)\n",
    "skf.get_n_splits(X,y)"
   ]
  },
  {
   "cell_type": "code",
   "execution_count": 4,
   "metadata": {},
   "outputs": [
    {
     "name": "stdout",
     "output_type": "stream",
     "text": [
      "StratifiedKFold(n_splits=2, random_state=None, shuffle=False)\n"
     ]
    }
   ],
   "source": [
    "# shuffle=False : 일부 test set에서 k class의 모든 sample은 y에 연속적이거나, k가 아닌 class의 sample에 의해 y로 분리된다.\n",
    "print(skf)"
   ]
  },
  {
   "cell_type": "code",
   "execution_count": 12,
   "metadata": {},
   "outputs": [
    {
     "name": "stdout",
     "output_type": "stream",
     "text": [
      "Train: [1 3] Test: [0 2]\n",
      "Train: [0 2] Test: [1 3]\n"
     ]
    }
   ],
   "source": [
    "for train_index, test_index in skf.split(X,y):\n",
    "    print(\"Train:\", train_index, \"Test:\", test_index)\n",
    "    X_train, X_test = X[train_index], X[test_index]\n",
    "    y_train, y_test = y[train_index], y[test_index]"
   ]
  },
  {
   "cell_type": "code",
   "execution_count": 14,
   "metadata": {},
   "outputs": [
    {
     "name": "stdout",
     "output_type": "stream",
     "text": [
      "[[1 2]\n",
      " [1 2]] [0 1]\n",
      "[[3 4]\n",
      " [3 4]] [0 1]\n"
     ]
    }
   ],
   "source": [
    "print(X_train, y_train)\n",
    "print(X_test, y_test)"
   ]
  },
  {
   "cell_type": "markdown",
   "metadata": {},
   "source": [
    "## 예제 1. '분류 score의 유의성'을 순열로 검사하기\n",
    "\n",
    "* 분류 score가 유의한지 test하기 위해, label을 무작위화하고 순열로 배치한 뒤 분류 절차를 반복하는 과정   \n",
    "    - p-value는 획득한 점수가 처음에 얻은 분류score보다 큰 작업의 백분율로 제공된다"
   ]
  },
  {
   "cell_type": "code",
   "execution_count": 142,
   "metadata": {},
   "outputs": [],
   "source": [
    "import numpy as np\n",
    "import matplotlib.pyplot as plt\n",
    "from sklearn.svm import SVC\n",
    "from sklearn.model_selection import StratifiedKFold\n",
    "from sklearn.model_selection import permutation_test_score\n",
    "from sklearn import datasets"
   ]
  },
  {
   "cell_type": "code",
   "execution_count": 164,
   "metadata": {},
   "outputs": [],
   "source": [
    "digits=datasets.load_digits()\n",
    "X,y = digits.data, digits.target\n",
    "n_classes=np.unique(y).size # array의 고유 indices size\n",
    "\n",
    "\n",
    "#random하게 X shuffle\n",
    "random = np.random.RandomState(seed=0) \n",
    "E=random.normal(size=(len(X),2200))\n",
    "\n",
    "X=np.c_[X,E] #array 모양을 전치한후 쌓음\n"
   ]
  },
  {
   "cell_type": "markdown",
   "metadata": {},
   "source": [
    "### permutation_test_score\n",
    "permute(순열)을 사용해 cross-validation된 score의 유의성 평가\n",
    "\n",
    "parameter\n",
    "* estimator : data를 fit할 object\n",
    "* scoring : test set을 예측,평가하기 위한 single str 또는 a callable\n",
    "* cv : cross-validation splitting 방식을 결정\n",
    "    - input이 int/None인 경우 estimator가 cassifier로 지정되고, y가 binary거나 multiclass인 경우 stratifiedKFold가 사용된다\n",
    "* n_permutation : y를 permute할 횟수\n",
    "* n_jobs : number of CPUs to do the computation\n",
    "\n",
    "\n",
    "return\n",
    "* score : permuting없이 내린 true score\n",
    "* permutation_scores : 각 permute에 대해 얻은 score\n",
    "* pvalue : score가 우연히 획득 될 확률\n",
    "    - (c+1)/(n_permutations+1)\n",
    "    - c는 permutation score>= score인 permutation의 수"
   ]
  },
  {
   "cell_type": "code",
   "execution_count": 165,
   "metadata": {},
   "outputs": [
    {
     "name": "stdout",
     "output_type": "stream",
     "text": [
      "Classification score 0.9337819056561237 (pvalue : 0.009900990099009901)\n"
     ]
    }
   ],
   "source": [
    "svm= SVC(kernel='linear')\n",
    "cv=StratifiedKFold(2)\n",
    "\n",
    "score,permutation_scores, pvalue = permutation_test_score(svm, X, y, scoring=\"accuracy\", cv=cv, n_permutations=100, n_jobs=1)\n",
    "print(\"Classification score %s (pvalue : %s)\"%(score,pvalue))"
   ]
  },
  {
   "cell_type": "code",
   "execution_count": 166,
   "metadata": {},
   "outputs": [
    {
     "data": {
      "image/png": "[encoded data removed]",
      "text/plain": [
       "<Figure size 432x288 with 1 Axes>"
      ]
     },
     "metadata": {
      "needs_background": "light"
     },
     "output_type": "display_data"
    }
   ],
   "source": [
    "plt.hist(permutation_scores, 20, label='Permutation scores', edgecolor='black')\n",
    "ylim=plt.ylim()\n",
    "plt.plot(2*[score], ylim, '--g', linewidth=3, label='Classification Score''(pvalue %s)'%pvalue )\n",
    "plt.plot(2 * [1. / n_classes], ylim, '--k', linewidth=3, label='Luck')\n",
    "\n",
    "plt.ylim(ylim)\n",
    "plt.legend()\n",
    "plt.xlabel('Score')\n",
    "plt.show()"
   ]
  },
  {
   "cell_type": "markdown",
   "metadata": {},
   "source": [
    "-------------------------------\n",
    "# sklearn.model_selection.**train_test_split**"
   ]
  },
  {
   "cell_type": "markdown",
   "metadata": {},
   "source": [
    "## parameters\n",
    "* arrays : allowed input are lists,numpy array, scipy-sparse matrices or pandas dataframes\n",
    "\n",
    "* test_size : should be  between 0.0 and 1.0 and represent the proportion of the dataset to include in the test split\n",
    "    - int -> represents the absolute number of test samples\n",
    "    - None -> the value is set to the complement of the train size (if train size=0, wii be set to 0.25)\n",
    "\n",
    "* train_size : should be  between 0.0 and 1.0 and represent the proportion of the dataset to include in the train split\n",
    "    - int -> represents the absolute number of test samples\n",
    "    - None -> the value is set to the complement of the test size\n",
    "\n",
    "* random_state : controls te shuffling applied to the data before applying the split\n",
    "\n",
    "* shuffle : whether or not to shuffle before splitting\n",
    "\n",
    "* stratify : if not None, data is split in a stratified fashion, using this as the class labels."
   ]
  },
  {
   "cell_type": "markdown",
   "metadata": {},
   "source": [
    "## returns : \n",
    "    splitting : list contaning train-test split of inputs"
   ]
  },
  {
   "cell_type": "code",
   "execution_count": 25,
   "metadata": {},
   "outputs": [],
   "source": [
    "import numpy as np\n",
    "from sklearn.model_selection import train_test_split\n",
    "\n",
    "X,y=np.arange(10).reshape((5,2)), range(5)"
   ]
  },
  {
   "cell_type": "code",
   "execution_count": 26,
   "metadata": {},
   "outputs": [
    {
     "data": {
      "text/plain": [
       "array([[0, 1],\n",
       "       [2, 3],\n",
       "       [4, 5],\n",
       "       [6, 7],\n",
       "       [8, 9]])"
      ]
     },
     "execution_count": 26,
     "metadata": {},
     "output_type": "execute_result"
    }
   ],
   "source": [
    "X"
   ]
  },
  {
   "cell_type": "code",
   "execution_count": 28,
   "metadata": {},
   "outputs": [
    {
     "data": {
      "text/plain": [
       "[0, 1, 2, 3, 4]"
      ]
     },
     "execution_count": 28,
     "metadata": {},
     "output_type": "execute_result"
    }
   ],
   "source": [
    "list(y)"
   ]
  },
  {
   "cell_type": "code",
   "execution_count": 31,
   "metadata": {},
   "outputs": [],
   "source": [
    "X_train, X_test, y_train, y_test = train_test_split(X,y, test_size=0.33, random_state=40)"
   ]
  },
  {
   "cell_type": "code",
   "execution_count": 32,
   "metadata": {},
   "outputs": [
    {
     "data": {
      "text/plain": [
       "array([[2, 3],\n",
       "       [8, 9],\n",
       "       [6, 7]])"
      ]
     },
     "execution_count": 32,
     "metadata": {},
     "output_type": "execute_result"
    }
   ],
   "source": [
    "X_train"
   ]
  },
  {
   "cell_type": "code",
   "execution_count": 33,
   "metadata": {},
   "outputs": [
    {
     "data": {
      "text/plain": [
       "[1, 4, 3]"
      ]
     },
     "execution_count": 33,
     "metadata": {},
     "output_type": "execute_result"
    }
   ],
   "source": [
    "y_train"
   ]
  },
  {
   "cell_type": "code",
   "execution_count": 34,
   "metadata": {},
   "outputs": [
    {
     "data": {
      "text/plain": [
       "array([[4, 5],\n",
       "       [0, 1]])"
      ]
     },
     "execution_count": 34,
     "metadata": {},
     "output_type": "execute_result"
    }
   ],
   "source": [
    "X_test"
   ]
  },
  {
   "cell_type": "code",
   "execution_count": 36,
   "metadata": {},
   "outputs": [
    {
     "data": {
      "text/plain": [
       "[[0, 1, 2], [3, 4]]"
      ]
     },
     "execution_count": 36,
     "metadata": {},
     "output_type": "execute_result"
    }
   ],
   "source": [
    "train_test_split(y, shuffle=False)"
   ]
  },
  {
   "cell_type": "markdown",
   "metadata": {},
   "source": [
    "## 예제2. 손으로 쓴 숫자 인식하기"
   ]
  },
  {
   "cell_type": "code",
   "execution_count": 37,
   "metadata": {},
   "outputs": [],
   "source": [
    "import matplotlib.pyplot as plt\n",
    "\n",
    "from sklearn import datasets, svm, metrics\n",
    "from sklearn.model_selection import train_test_split"
   ]
  },
  {
   "cell_type": "code",
   "execution_count": 43,
   "metadata": {},
   "outputs": [],
   "source": [
    "digits=datasets.load_digits()"
   ]
  },
  {
   "cell_type": "code",
   "execution_count": 137,
   "metadata": {},
   "outputs": [
    {
     "data": {
      "image/png": "[encoded data removed]",
      "text/plain": [
       "<Figure size 432x288 with 4 Axes>"
      ]
     },
     "metadata": {
      "needs_background": "light"
     },
     "output_type": "display_data"
    }
   ],
   "source": [
    "# Look for first 4 imasges\n",
    "\n",
    "#subplot(nrows, ncols): single Axes나 array Axes를 가진 figure(subplot grid) 출력\n",
    "_, axes = plt.subplots(1, 4)\n",
    "images_and_labels=list(zip(digits.images,digits.target)) \n",
    "for ax, (image, label) in zip(axes[:4],images_and_labels[:4]):\n",
    "    ax.set_axis_off()\n",
    "    ax.imshow(image, cmap=plt.cm.gray_r, interpolation='nearest')\n",
    "    ax.set_title('Training:%i'%label) # 'Training:image의 label'로 title 설정"
   ]
  },
  {
   "cell_type": "code",
   "execution_count": 121,
   "metadata": {},
   "outputs": [],
   "source": [
    "# 분류를 위해서, image data를 (sample, feature) matrix로 변환\n",
    "\n",
    "n_samples = len(digits.images) \n",
    "data=digits.images.reshape((n_samples, -1)) #data.shape=(1797,64)\n",
    "\n",
    "X_train, X_test, y_train, y_test = train_test_split(data, digits.target, test_size=0.5, shuffle=False)\n",
    "# shuffle 없이 test set, train set 비율을 0.5로 각각 (data, digits.target)을 분리함"
   ]
  },
  {
   "cell_type": "code",
   "execution_count": 124,
   "metadata": {},
   "outputs": [],
   "source": [
    "classifier=svm.SVC(gamma=0.001)\n",
    "\n",
    "#train set으로 분류기 훈련시키기\n",
    "classifier.fit(X_train, y_train)\n",
    "# test set label 예측\n",
    "predicted= classifier.predict(X_test)\n",
    "\n",
    "images_and_predictions = list(zip(digits.images[n_samples // 2 :], predicted)) #shuffle을 안했기 떄문에 images set 절반이 test set"
   ]
  },
  {
   "cell_type": "code",
   "execution_count": 139,
   "metadata": {},
   "outputs": [
    {
     "data": {
      "image/png": "[encoded data removed]",
      "text/plain": [
       "<Figure size 432x288 with 4 Axes>"
      ]
     },
     "metadata": {
      "needs_background": "light"
     },
     "output_type": "display_data"
    }
   ],
   "source": [
    "_, axes = plt.subplots(1, 4)\n",
    "for ax, (image, prediction) in zip(axes[:], images_and_predictions[:4]):\n",
    "    ax.set_axis_off()\n",
    "    ax.imshow(image, cmap=plt.cm.gray_r, interpolation='nearest')\n",
    "    ax.set_title('Prediction:%i'%prediction)\n"
   ]
  },
  {
   "cell_type": "code",
   "execution_count": 141,
   "metadata": {},
   "outputs": [
    {
     "name": "stdout",
     "output_type": "stream",
     "text": [
      "Classification report for classifier SVC(C=1.0, break_ties=False, cache_size=200, class_weight=None, coef0=0.0,\n",
      "    decision_function_shape='ovr', degree=3, gamma=0.001, kernel='rbf',\n",
      "    max_iter=-1, probability=False, random_state=None, shrinking=True,\n",
      "    tol=0.001, verbose=False):\n",
      "              precision    recall  f1-score   support\n",
      "\n",
      "           0       1.00      0.99      0.99        88\n",
      "           1       0.99      0.97      0.98        91\n",
      "           2       0.99      0.99      0.99        86\n",
      "           3       0.98      0.87      0.92        91\n",
      "           4       0.99      0.96      0.97        92\n",
      "           5       0.95      0.97      0.96        91\n",
      "           6       0.99      0.99      0.99        91\n",
      "           7       0.96      0.99      0.97        89\n",
      "           8       0.94      1.00      0.97        88\n",
      "           9       0.93      0.98      0.95        92\n",
      "\n",
      "    accuracy                           0.97       899\n",
      "   macro avg       0.97      0.97      0.97       899\n",
      "weighted avg       0.97      0.97      0.97       899\n",
      "\n",
      "\n",
      "Confusion matrix:\n",
      "[[87  0  0  0  1  0  0  0  0  0]\n",
      " [ 0 88  1  0  0  0  0  0  1  1]\n",
      " [ 0  0 85  1  0  0  0  0  0  0]\n",
      " [ 0  0  0 79  0  3  0  4  5  0]\n",
      " [ 0  0  0  0 88  0  0  0  0  4]\n",
      " [ 0  0  0  0  0 88  1  0  0  2]\n",
      " [ 0  1  0  0  0  0 90  0  0  0]\n",
      " [ 0  0  0  0  0  1  0 88  0  0]\n",
      " [ 0  0  0  0  0  0  0  0 88  0]\n",
      " [ 0  0  0  1  0  1  0  0  0 90]]\n"
     ]
    },
    {
     "data": {
      "image/png": "[encoded data removed]",
      "text/plain": [
       "<Figure size 432x288 with 2 Axes>"
      ]
     },
     "metadata": {
      "needs_background": "light"
     },
     "output_type": "display_data"
    }
   ],
   "source": [
    "print(\"Classification report for classifier %s:\\n%s\\n\"%(classifier, metrics.classification_report(y_test,predicted)))\n",
    "disp = metrics.plot_confusion_matrix(classifier, X_test, y_test)\n",
    "disp.figure_.suptitle(\"Confusion Matrix\")\n",
    "print(\"Confusion matrix:\\n%s\"%disp.confusion_matrix)\n",
    "\n",
    "plt.show()"
   ]
  },
  {
   "cell_type": "code",
   "execution_count": null,
   "metadata": {},
   "outputs": [],
   "source": []
  }
 ],
 "metadata": {
  "kernelspec": {
   "display_name": "Python 3",
   "language": "python",
   "name": "python3"
  },
  "language_info": {
   "codemirror_mode": {
    "name": "ipython",
    "version": 3
   },
   "file_extension": ".py",
   "mimetype": "text/x-python",
   "name": "python",
   "nbconvert_exporter": "python",
   "pygments_lexer": "ipython3",
   "version": "3.7.6"
  }
 },
 "nbformat": 4,
 "nbformat_minor": 4
}
